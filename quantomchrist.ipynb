{
  "nbformat": 4,
  "nbformat_minor": 0,
  "metadata": {
    "colab": {
      "provenance": [],
      "toc_visible": true,
      "authorship_tag": "ABX9TyOn6rYVfA+SmOlfGNVU34gv",
      "include_colab_link": true
    },
    "kernelspec": {
      "name": "python3",
      "display_name": "Python 3"
    },
    "language_info": {
      "name": "python"
    }
  },
  "cells": [
    {
      "cell_type": "markdown",
      "metadata": {
        "id": "view-in-github",
        "colab_type": "text"
      },
      "source": [
        "<a href=\"https://colab.research.google.com/github/Deluciferrral/AgentGPT/blob/main/quantomchrist.ipynb\" target=\"_parent\"><img src=\"https://colab.research.google.com/assets/colab-badge.svg\" alt=\"Open In Colab\"/></a>"
      ]
    },
    {
      "cell_type": "code",
      "execution_count": null,
      "metadata": {
        "id": "M8XbzSsE4Ijo",
        "outputId": "055f49d0-38ed-4781-bbc1-c3285dda688b",
        "colab": {
          "base_uri": "https://localhost:8080/"
        }
      },
      "outputs": [
        {
          "output_type": "stream",
          "name": "stdout",
          "text": [
            "Collecting divine\n",
            "  Downloading divine-0.0.1.tar.gz (1.4 kB)\n",
            "  Preparing metadata (setup.py) ... \u001b[?25l\u001b[?25hdone\n",
            "Collecting wisdom\n",
            "  Downloading wisdom-0.1.0.tar.gz (588 bytes)\n",
            "  Preparing metadata (setup.py) ... \u001b[?25l\u001b[?25hdone\n",
            "Building wheels for collected packages: divine, wisdom\n",
            "  Building wheel for divine (setup.py) ... \u001b[?25l\u001b[?25hdone\n",
            "  Created wheel for divine: filename=divine-0.0.1-py3-none-any.whl size=1693 sha256=9e1a4c833716727b08bece3ffa6a4bd00b87da94d9d64f4de93c8a6efbae8047\n",
            "  Stored in directory: /root/.cache/pip/wheels/f3/e8/fe/d84555c09f2687709cbcf839b8b611db04f161c691dbb9e841\n",
            "  Building wheel for wisdom (setup.py) ... \u001b[?25l\u001b[?25hdone\n",
            "  Created wheel for wisdom: filename=wisdom-0.1.0-py3-none-any.whl size=1160 sha256=c5b7aeb20df624a53757fbc91139b0d60b5bd9441e3cae4a1ed16dbe49ab26f9\n",
            "  Stored in directory: /root/.cache/pip/wheels/8b/2f/d5/71c812edfa5d933a36aef1dba67177fdfab8ac7ed4a7483360\n",
            "Successfully built divine wisdom\n",
            "Installing collected packages: wisdom, divine\n",
            "Successfully installed divine-0.0.1 wisdom-0.1.0\n"
          ]
        }
      ],
      "source": [
        "!pip install divine wisdom"
      ]
    },
    {
      "cell_type": "code",
      "source": [
        "!print hello world/ telepathickily\n"
      ],
      "metadata": {
        "colab": {
          "base_uri": "https://localhost:8080/"
        },
        "id": "rKni8DvL5Uek",
        "outputId": "2b522741-f1e2-4ccc-bbd7-6c6bf2d74fa2"
      },
      "execution_count": null,
      "outputs": [
        {
          "output_type": "stream",
          "name": "stdout",
          "text": [
            "Warning: unknown mime-type for \"hello\" -- using \"application/octet-stream\"\n",
            "Warning: unknown mime-type for \"world/\" -- using \"application/octet-stream\"\n",
            "Warning: unknown mime-type for \"telepathickily\" -- using \"application/octet-stream\"\n",
            "Error: no such file \"hello\"\n",
            "Error: no such file \"world/\"\n",
            "Error: no such file \"telepathickily\"\n"
          ]
        }
      ]
    },
    {
      "cell_type": "code",
      "source": [
        "!?"
      ],
      "metadata": {
        "colab": {
          "base_uri": "https://localhost:8080/"
        },
        "id": "xbQk0v1j5ewg",
        "outputId": "ef0d0511-7c7d-4f41-f990-38728df954e3"
      },
      "execution_count": null,
      "outputs": [
        {
          "output_type": "stream",
          "name": "stdout",
          "text": [
            "/bin/bash: line 1: ?: command not found\n"
          ]
        }
      ]
    },
    {
      "source": [
        "\n"
      ],
      "cell_type": "code",
      "metadata": {
        "id": "0XOxKw4Y6bPg",
        "outputId": "ec2c89f6-a1a2-4dd0-c4b6-61f7851f7f24",
        "colab": {
          "base_uri": "https://localhost:8080/"
        }
      },
      "execution_count": null,
      "outputs": [
        {
          "output_type": "stream",
          "name": "stdout",
          "text": [
            "\u001b[31mERROR: Invalid requirement: 'gateway////': Expected end or semicolon (after name and no valid version specifier)\n",
            "    gateway////\n",
            "           ^\n",
            "Hint: It looks like a path. File 'gateway////' does not exist.\u001b[0m\u001b[31m\n",
            "\u001b[0m"
          ]
        }
      ]
    },
    {
      "cell_type": "code",
      "source": [],
      "metadata": {
        "id": "49aVMlmP6c31"
      },
      "execution_count": null,
      "outputs": []
    }
  ]
}